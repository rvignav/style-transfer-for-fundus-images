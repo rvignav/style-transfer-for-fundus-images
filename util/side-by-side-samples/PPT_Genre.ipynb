{
 "cells": [
  {
   "cell_type": "code",
   "execution_count": null,
   "metadata": {},
   "outputs": [],
   "source": [
    "import csv\n",
    "import glob\n",
    "import os\n",
    "import random\n",
    "import matplotlib.pyplot as plt\n",
    "import matplotlib.image as mpimg\n",
    "import unicodedata"
   ]
  },
  {
   "cell_type": "code",
   "execution_count": null,
   "metadata": {},
   "outputs": [],
   "source": [
    "with open('painter-by-numbers/train_info.csv', mode='r') as infile:\n",
    "    reader = csv.reader(infile)\n",
    "    d = {rows[0]: [unicodedata.normalize('NFC', rows[3]), rows[4], rows[1]] for rows in reader}"
   ]
  },
  {
   "cell_type": "code",
   "execution_count": null,
   "metadata": {},
   "outputs": [],
   "source": [
    "def find(style, genre, artist):\n",
    "    for fname in d:\n",
    "        vals = d[fname]\n",
    "        if vals[0] == unicodedata.normalize('NFC', style) and vals[1] == genre and vals[2] == artist:\n",
    "            return 'painter-by-numbers/style-imgs/' + fname\n",
    "\n",
    "def plot_album(f1, f2, f3, style, genre, k):\n",
    "    fig, axes = plt.subplots(nrows=1, ncols=3)\n",
    "    fig.suptitle(\"Genre: \" + genre, x=0.02, fontsize=20, horizontalalignment='left')\n",
    "    fig.set_size_inches(30, 10)\n",
    "    image_paths = [f1, f2, f3]\n",
    "    for imp, ax in zip(image_paths, axes.ravel()):\n",
    "        img = mpimg.imread(imp)\n",
    "        ax.imshow(img)\n",
    "        ax.axis('off')\n",
    "    fig.tight_layout()\n",
    "    plt.savefig('imgs-by-genre/' + str(k) + '.png')\n",
    "    plt.close()"
   ]
  },
  {
   "cell_type": "code",
   "execution_count": null,
   "metadata": {},
   "outputs": [],
   "source": [
    "dirs = [str(f.path) for f in os.scandir('sorted-by-genre') if f.is_dir()]\n",
    "k = 0\n",
    "for genre in dirs:\n",
    "    fnames = glob.glob(genre + '/*.jpeg')\n",
    "    if len(fnames) >= 100:\n",
    "        k += 1\n",
    "print(str(k) + \" directories in total\")\n",
    "\n",
    "k = 0\n",
    "for genre in dirs:\n",
    "    fnames = glob.glob(genre + '/*.jpeg')\n",
    "    random.shuffle(fnames)\n",
    "    i = 0\n",
    "    if not len(fnames) >= 100:\n",
    "        continue\n",
    "    print(\"Genre: \" + genre)\n",
    "    for fname in fnames:\n",
    "        if (i >= 4):\n",
    "            break\n",
    "        try:\n",
    "            l = fname[fname.rindex('/')+1:fname.rindex('.jpeg')].split(\"_\")\n",
    "            style = l[0]\n",
    "            artist = l[1]\n",
    "            f = find(style, genre[genre.rindex('/')+1:], artist)\n",
    "            plot_album('sample/13_right.jpeg', f, fname, style, genre[genre.rindex('/')+1:], k)\n",
    "            i = i + 1\n",
    "            k = k + 1\n",
    "        except:\n",
    "            continue"
   ]
  }
 ],
 "metadata": {
  "kernelspec": {
   "display_name": "Python 3",
   "language": "python",
   "name": "python3"
  },
  "language_info": {
   "codemirror_mode": {
    "name": "ipython",
    "version": 3
   },
   "file_extension": ".py",
   "mimetype": "text/x-python",
   "name": "python",
   "nbconvert_exporter": "python",
   "pygments_lexer": "ipython3",
   "version": "3.6.10"
  }
 },
 "nbformat": 4,
 "nbformat_minor": 2
}
