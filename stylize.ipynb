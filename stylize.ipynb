{
 "cells": [
  {
   "cell_type": "code",
   "execution_count": 1,
   "metadata": {},
   "outputs": [
    {
     "name": "stdout",
     "output_type": "stream",
     "text": [
      "/home/users/rvignav/style-transfer-for-fundus-imaging/stylize-datasets\n"
     ]
    }
   ],
   "source": [
    "%cd stylize-datasets"
   ]
  },
  {
   "cell_type": "code",
   "execution_count": 2,
   "metadata": {},
   "outputs": [
    {
     "name": "stdout",
     "output_type": "stream",
     "text": [
      "Defaulting to user installation because normal site-packages is not writeable\n",
      "Requirement already satisfied: tqdm in /home/users/rvignav/.local/lib/python3.6/site-packages (4.55.1)\n",
      "\u001b[33mWARNING: You are using pip version 20.2.3; however, version 20.3.3 is available.\n",
      "You should consider upgrading via the '/share/software/user/open/python/3.6.1/bin/python3.6 -m pip install --upgrade pip' command.\u001b[0m\n"
     ]
    }
   ],
   "source": [
    "!pip install tqdm"
   ]
  },
  {
   "cell_type": "code",
   "execution_count": 3,
   "metadata": {
    "scrolled": true
   },
   "outputs": [
    {
     "name": "stdout",
     "output_type": "stream",
     "text": [
      "Found 35126 content images in /scratch/groups/rubin/rvignav/input/train\n",
      "Found 76848 style images in /scratch/groups/rubin/rvignav/style\n",
      "  5%|█▉                                  | 1921/35126 [18:40<5:46:00,  1.60it/s]Skipping stylization of /scratch/groups/rubin/rvignav/input/train/12216_right.jpeg due to an error\n",
      " 23%|███████▊                          | 8040/35126 [1:19:52<4:41:43,  1.60it/s]Skipping stylization of /scratch/groups/rubin/rvignav/input/train/19092_left.jpeg due to an error\n",
      " 28%|█████████▎                        | 9677/35126 [1:36:18<5:00:38,  1.41it/s]Skipping stylization of /scratch/groups/rubin/rvignav/input/train/20985_right.jpeg due to an error\n",
      "100%|███████████████████████████████████| 35126/35126 [6:11:43<00:00,  1.57it/s]\n"
     ]
    }
   ],
   "source": [
    "!python3 stylize.py --content-dir '/scratch/groups/rubin/rvignav/input/train/' --style-dir '/scratch/groups/rubin/rvignav/style/' --output-dir '/scratch/groups/rubin/stylized-input' --alpha 0.3 --content-size 1024 --style-size 1024"
   ]
  }
 ],
 "metadata": {
  "kernelspec": {
   "display_name": "Python 3",
   "language": "python",
   "name": "python3"
  },
  "language_info": {
   "codemirror_mode": {
    "name": "ipython",
    "version": 3
   },
   "file_extension": ".py",
   "mimetype": "text/x-python",
   "name": "python",
   "nbconvert_exporter": "python",
   "pygments_lexer": "ipython3",
   "version": "3.6.1"
  }
 },
 "nbformat": 4,
 "nbformat_minor": 4
}
